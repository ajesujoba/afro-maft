{
  "nbformat": 4,
  "nbformat_minor": 0,
  "metadata": {
    "colab": {
      "provenance": []
    },
    "kernelspec": {
      "name": "python3",
      "display_name": "Python 3"
    },
    "language_info": {
      "name": "python"
    }
  },
  "cells": [
    {
      "cell_type": "code",
      "source": [
        "import pandas as pd\n",
        "df = pd.read_csv('Somali/som_all.tsv',sep='\\t')\n",
        "print(len(df))\n",
        "df.head()\n",
        "#df.to_csv('Pidgin/alltopics.tsv',sep='\\t',index=False)"
      ],
      "metadata": {
        "colab": {
          "base_uri": "https://localhost:8080/",
          "height": 225
        },
        "id": "vv473aIPP-sk",
        "outputId": "17d2443f-7375-43d7-d618-ee14fc6ce0b2"
      },
      "execution_count": null,
      "outputs": [
        {
          "output_type": "stream",
          "name": "stdout",
          "text": [
            "20579\n"
          ]
        },
        {
          "output_type": "execute_result",
          "data": {
            "text/html": [
              "\n",
              "  <div id=\"df-b7655e82-33e9-42aa-9768-09a812ec7ff9\">\n",
              "    <div class=\"colab-df-container\">\n",
              "      <div>\n",
              "<style scoped>\n",
              "    .dataframe tbody tr th:only-of-type {\n",
              "        vertical-align: middle;\n",
              "    }\n",
              "\n",
              "    .dataframe tbody tr th {\n",
              "        vertical-align: top;\n",
              "    }\n",
              "\n",
              "    .dataframe thead th {\n",
              "        text-align: right;\n",
              "    }\n",
              "</style>\n",
              "<table border=\"1\" class=\"dataframe\">\n",
              "  <thead>\n",
              "    <tr style=\"text-align: right;\">\n",
              "      <th></th>\n",
              "      <th>Unnamed: 0</th>\n",
              "      <th>Text</th>\n",
              "      <th>Label</th>\n",
              "    </tr>\n",
              "  </thead>\n",
              "  <tbody>\n",
              "    <tr>\n",
              "      <th>0</th>\n",
              "      <td>0</td>\n",
              "      <td>Wasiirkii Biyaha Sucuudiga oo la Casilay</td>\n",
              "      <td>Caalamka</td>\n",
              "    </tr>\n",
              "    <tr>\n",
              "      <th>1</th>\n",
              "      <td>1</td>\n",
              "      <td>Joe Biden oo ka dagay magaalada Nairobi</td>\n",
              "      <td>Wararka</td>\n",
              "    </tr>\n",
              "    <tr>\n",
              "      <th>2</th>\n",
              "      <td>2</td>\n",
              "      <td>Madaxii Garsoorayaasha Xiriirka K/Cagta Somali...</td>\n",
              "      <td>Soomaaliya</td>\n",
              "    </tr>\n",
              "    <tr>\n",
              "      <th>3</th>\n",
              "      <td>3</td>\n",
              "      <td>Dabeylo ku Dhuftay Ceelasha-Biyaha</td>\n",
              "      <td>Soomaaliya</td>\n",
              "    </tr>\n",
              "    <tr>\n",
              "      <th>4</th>\n",
              "      <td>4</td>\n",
              "      <td>816 Arday oo ka Qalin Jebisay Camuud</td>\n",
              "      <td>Soomaaliya</td>\n",
              "    </tr>\n",
              "  </tbody>\n",
              "</table>\n",
              "</div>\n",
              "      <button class=\"colab-df-convert\" onclick=\"convertToInteractive('df-b7655e82-33e9-42aa-9768-09a812ec7ff9')\"\n",
              "              title=\"Convert this dataframe to an interactive table.\"\n",
              "              style=\"display:none;\">\n",
              "        \n",
              "  <svg xmlns=\"http://www.w3.org/2000/svg\" height=\"24px\"viewBox=\"0 0 24 24\"\n",
              "       width=\"24px\">\n",
              "    <path d=\"M0 0h24v24H0V0z\" fill=\"none\"/>\n",
              "    <path d=\"M18.56 5.44l.94 2.06.94-2.06 2.06-.94-2.06-.94-.94-2.06-.94 2.06-2.06.94zm-11 1L8.5 8.5l.94-2.06 2.06-.94-2.06-.94L8.5 2.5l-.94 2.06-2.06.94zm10 10l.94 2.06.94-2.06 2.06-.94-2.06-.94-.94-2.06-.94 2.06-2.06.94z\"/><path d=\"M17.41 7.96l-1.37-1.37c-.4-.4-.92-.59-1.43-.59-.52 0-1.04.2-1.43.59L10.3 9.45l-7.72 7.72c-.78.78-.78 2.05 0 2.83L4 21.41c.39.39.9.59 1.41.59.51 0 1.02-.2 1.41-.59l7.78-7.78 2.81-2.81c.8-.78.8-2.07 0-2.86zM5.41 20L4 18.59l7.72-7.72 1.47 1.35L5.41 20z\"/>\n",
              "  </svg>\n",
              "      </button>\n",
              "      \n",
              "  <style>\n",
              "    .colab-df-container {\n",
              "      display:flex;\n",
              "      flex-wrap:wrap;\n",
              "      gap: 12px;\n",
              "    }\n",
              "\n",
              "    .colab-df-convert {\n",
              "      background-color: #E8F0FE;\n",
              "      border: none;\n",
              "      border-radius: 50%;\n",
              "      cursor: pointer;\n",
              "      display: none;\n",
              "      fill: #1967D2;\n",
              "      height: 32px;\n",
              "      padding: 0 0 0 0;\n",
              "      width: 32px;\n",
              "    }\n",
              "\n",
              "    .colab-df-convert:hover {\n",
              "      background-color: #E2EBFA;\n",
              "      box-shadow: 0px 1px 2px rgba(60, 64, 67, 0.3), 0px 1px 3px 1px rgba(60, 64, 67, 0.15);\n",
              "      fill: #174EA6;\n",
              "    }\n",
              "\n",
              "    [theme=dark] .colab-df-convert {\n",
              "      background-color: #3B4455;\n",
              "      fill: #D2E3FC;\n",
              "    }\n",
              "\n",
              "    [theme=dark] .colab-df-convert:hover {\n",
              "      background-color: #434B5C;\n",
              "      box-shadow: 0px 1px 3px 1px rgba(0, 0, 0, 0.15);\n",
              "      filter: drop-shadow(0px 1px 2px rgba(0, 0, 0, 0.3));\n",
              "      fill: #FFFFFF;\n",
              "    }\n",
              "  </style>\n",
              "\n",
              "      <script>\n",
              "        const buttonEl =\n",
              "          document.querySelector('#df-b7655e82-33e9-42aa-9768-09a812ec7ff9 button.colab-df-convert');\n",
              "        buttonEl.style.display =\n",
              "          google.colab.kernel.accessAllowed ? 'block' : 'none';\n",
              "\n",
              "        async function convertToInteractive(key) {\n",
              "          const element = document.querySelector('#df-b7655e82-33e9-42aa-9768-09a812ec7ff9');\n",
              "          const dataTable =\n",
              "            await google.colab.kernel.invokeFunction('convertToInteractive',\n",
              "                                                     [key], {});\n",
              "          if (!dataTable) return;\n",
              "\n",
              "          const docLinkHtml = 'Like what you see? Visit the ' +\n",
              "            '<a target=\"_blank\" href=https://colab.research.google.com/notebooks/data_table.ipynb>data table notebook</a>'\n",
              "            + ' to learn more about interactive tables.';\n",
              "          element.innerHTML = '';\n",
              "          dataTable['output_type'] = 'display_data';\n",
              "          await google.colab.output.renderOutput(dataTable, element);\n",
              "          const docLink = document.createElement('div');\n",
              "          docLink.innerHTML = docLinkHtml;\n",
              "          element.appendChild(docLink);\n",
              "        }\n",
              "      </script>\n",
              "    </div>\n",
              "  </div>\n",
              "  "
            ],
            "text/plain": [
              "   Unnamed: 0                                               Text       Label\n",
              "0           0           Wasiirkii Biyaha Sucuudiga oo la Casilay    Caalamka\n",
              "1           1            Joe Biden oo ka dagay magaalada Nairobi     Wararka\n",
              "2           2  Madaxii Garsoorayaasha Xiriirka K/Cagta Somali...  Soomaaliya\n",
              "3           3                 Dabeylo ku Dhuftay Ceelasha-Biyaha  Soomaaliya\n",
              "4           4               816 Arday oo ka Qalin Jebisay Camuud  Soomaaliya"
            ]
          },
          "metadata": {},
          "execution_count": 46
        }
      ]
    },
    {
      "cell_type": "code",
      "source": [
        "df['Label'].explode().value_counts()"
      ],
      "metadata": {
        "colab": {
          "base_uri": "https://localhost:8080/"
        },
        "id": "4hU0jLpoP6G4",
        "outputId": "87890963-9427-4df1-dd22-3540cda76d01"
      },
      "execution_count": null,
      "outputs": [
        {
          "output_type": "execute_result",
          "data": {
            "text/plain": [
              "Soomaaliya                           9343\n",
              "Wararka                              3652\n",
              "Caalamka                             2777\n",
              "Maraykanka                           1812\n",
              "Afrika                               1582\n",
              "Bogga Ciyaaraha                       611\n",
              "Sawirro                               152\n",
              "Dhaqanka iyo Hiddaha                  119\n",
              "Martida Makrafoonka                   117\n",
              "Wicitaanka Dhageystaha                111\n",
              "Faaqidaadda Toddobaadka                64\n",
              "Qubanaha Maanta                        43\n",
              "Hambalyada iyo Heesaha                 36\n",
              "Cawayska Washington                    30\n",
              "Doorashada Mareykanka 2020             29\n",
              "Hibada iyo Hal Abuurka                 24\n",
              "Haweenka iyo Qosyka                    16\n",
              "Waraysiyada                            11\n",
              "Barnaamijyada Gaarka ah                11\n",
              "Basketball Africa League (BAL)          7\n",
              "Barnaamijyada Toddobaadka               6\n",
              "Barnaamijka Ileys                       5\n",
              "Yurub ama Geeri                         4\n",
              "Breaking News                           4\n",
              "Bandhigga VOA                           3\n",
              "Xulka                                   3\n",
              "Galka Baarista                          2\n",
              "Infographics                            1\n",
              "VOA60 Africa                            1\n",
              "Barnaamij: Dhextaalka Toddobaadka       1\n",
              "Doorashada Soomaaliya 2021              1\n",
              "Abaaraha Soomaaliya 2017                1\n",
              "Name: Label, dtype: int64"
            ]
          },
          "metadata": {},
          "execution_count": 47
        }
      ]
    },
    {
      "cell_type": "code",
      "source": [
        "# get all the duplicated rows\n",
        "dupl = df[df.duplicated(['Text'],keep = False )]\n",
        "# get the remaining rows after removing the duplicate news\n",
        "restdf = df[~df.isin(dupl)].dropna()\n",
        "#get the rows for the top 6 with more than 600 instances category\n",
        "#df = restdf[restdf['Label'] == 'Soomaaliya' | restdf['Label'] == 'Wararka', 'Maraykanka', 'Afrika']\n",
        "maindf = restdf.loc[restdf['Label'].isin(['Soomaaliya', 'Wararka', 'Caalamka', 'Maraykanka', 'Afrika', 'Bogga Ciyaaraha'])]\n",
        "maindf = maindf.drop('Unnamed: 0', axis=1, inplace=False)\n",
        "maindf = maindf.rename(columns={'Text': 'text', 'Label': 'class'})\n",
        "maindf"
      ],
      "metadata": {
        "id": "c6ZkHBdeU1rG",
        "colab": {
          "base_uri": "https://localhost:8080/",
          "height": 424
        },
        "outputId": "616fcc72-3a32-4c56-9a9b-1a92b48ac853"
      },
      "execution_count": null,
      "outputs": [
        {
          "output_type": "execute_result",
          "data": {
            "text/html": [
              "\n",
              "  <div id=\"df-a4e38a0f-a269-465d-9add-5e86658679d5\">\n",
              "    <div class=\"colab-df-container\">\n",
              "      <div>\n",
              "<style scoped>\n",
              "    .dataframe tbody tr th:only-of-type {\n",
              "        vertical-align: middle;\n",
              "    }\n",
              "\n",
              "    .dataframe tbody tr th {\n",
              "        vertical-align: top;\n",
              "    }\n",
              "\n",
              "    .dataframe thead th {\n",
              "        text-align: right;\n",
              "    }\n",
              "</style>\n",
              "<table border=\"1\" class=\"dataframe\">\n",
              "  <thead>\n",
              "    <tr style=\"text-align: right;\">\n",
              "      <th></th>\n",
              "      <th>text</th>\n",
              "      <th>class</th>\n",
              "    </tr>\n",
              "  </thead>\n",
              "  <tbody>\n",
              "    <tr>\n",
              "      <th>0</th>\n",
              "      <td>Wasiirkii Biyaha Sucuudiga oo la Casilay</td>\n",
              "      <td>Caalamka</td>\n",
              "    </tr>\n",
              "    <tr>\n",
              "      <th>1</th>\n",
              "      <td>Joe Biden oo ka dagay magaalada Nairobi</td>\n",
              "      <td>Wararka</td>\n",
              "    </tr>\n",
              "    <tr>\n",
              "      <th>2</th>\n",
              "      <td>Madaxii Garsoorayaasha Xiriirka K/Cagta Somali...</td>\n",
              "      <td>Soomaaliya</td>\n",
              "    </tr>\n",
              "    <tr>\n",
              "      <th>3</th>\n",
              "      <td>Dabeylo ku Dhuftay Ceelasha-Biyaha</td>\n",
              "      <td>Soomaaliya</td>\n",
              "    </tr>\n",
              "    <tr>\n",
              "      <th>4</th>\n",
              "      <td>816 Arday oo ka Qalin Jebisay Camuud</td>\n",
              "      <td>Soomaaliya</td>\n",
              "    </tr>\n",
              "    <tr>\n",
              "      <th>...</th>\n",
              "      <td>...</td>\n",
              "      <td>...</td>\n",
              "    </tr>\n",
              "    <tr>\n",
              "      <th>20574</th>\n",
              "      <td>Somaliland: Qofkii 4aad oo u Dhinta COVID-19</td>\n",
              "      <td>Soomaaliya</td>\n",
              "    </tr>\n",
              "    <tr>\n",
              "      <th>20575</th>\n",
              "      <td>Trump oo 3 Bil oo Dheeri ah Xayiraadda ka Qaad...</td>\n",
              "      <td>Afrika</td>\n",
              "    </tr>\n",
              "    <tr>\n",
              "      <th>20576</th>\n",
              "      <td>Wareysi Gaas: Doorashada Dib Ayey u Dhacday</td>\n",
              "      <td>Soomaaliya</td>\n",
              "    </tr>\n",
              "    <tr>\n",
              "      <th>20577</th>\n",
              "      <td>Natiijada Doorashada Kenya oo Lagu Dhawaaqayo</td>\n",
              "      <td>Afrika</td>\n",
              "    </tr>\n",
              "    <tr>\n",
              "      <th>20578</th>\n",
              "      <td>Xaaladda Dhoobley Shabaab ka Dib</td>\n",
              "      <td>Wararka</td>\n",
              "    </tr>\n",
              "  </tbody>\n",
              "</table>\n",
              "<p>19673 rows × 2 columns</p>\n",
              "</div>\n",
              "      <button class=\"colab-df-convert\" onclick=\"convertToInteractive('df-a4e38a0f-a269-465d-9add-5e86658679d5')\"\n",
              "              title=\"Convert this dataframe to an interactive table.\"\n",
              "              style=\"display:none;\">\n",
              "        \n",
              "  <svg xmlns=\"http://www.w3.org/2000/svg\" height=\"24px\"viewBox=\"0 0 24 24\"\n",
              "       width=\"24px\">\n",
              "    <path d=\"M0 0h24v24H0V0z\" fill=\"none\"/>\n",
              "    <path d=\"M18.56 5.44l.94 2.06.94-2.06 2.06-.94-2.06-.94-.94-2.06-.94 2.06-2.06.94zm-11 1L8.5 8.5l.94-2.06 2.06-.94-2.06-.94L8.5 2.5l-.94 2.06-2.06.94zm10 10l.94 2.06.94-2.06 2.06-.94-2.06-.94-.94-2.06-.94 2.06-2.06.94z\"/><path d=\"M17.41 7.96l-1.37-1.37c-.4-.4-.92-.59-1.43-.59-.52 0-1.04.2-1.43.59L10.3 9.45l-7.72 7.72c-.78.78-.78 2.05 0 2.83L4 21.41c.39.39.9.59 1.41.59.51 0 1.02-.2 1.41-.59l7.78-7.78 2.81-2.81c.8-.78.8-2.07 0-2.86zM5.41 20L4 18.59l7.72-7.72 1.47 1.35L5.41 20z\"/>\n",
              "  </svg>\n",
              "      </button>\n",
              "      \n",
              "  <style>\n",
              "    .colab-df-container {\n",
              "      display:flex;\n",
              "      flex-wrap:wrap;\n",
              "      gap: 12px;\n",
              "    }\n",
              "\n",
              "    .colab-df-convert {\n",
              "      background-color: #E8F0FE;\n",
              "      border: none;\n",
              "      border-radius: 50%;\n",
              "      cursor: pointer;\n",
              "      display: none;\n",
              "      fill: #1967D2;\n",
              "      height: 32px;\n",
              "      padding: 0 0 0 0;\n",
              "      width: 32px;\n",
              "    }\n",
              "\n",
              "    .colab-df-convert:hover {\n",
              "      background-color: #E2EBFA;\n",
              "      box-shadow: 0px 1px 2px rgba(60, 64, 67, 0.3), 0px 1px 3px 1px rgba(60, 64, 67, 0.15);\n",
              "      fill: #174EA6;\n",
              "    }\n",
              "\n",
              "    [theme=dark] .colab-df-convert {\n",
              "      background-color: #3B4455;\n",
              "      fill: #D2E3FC;\n",
              "    }\n",
              "\n",
              "    [theme=dark] .colab-df-convert:hover {\n",
              "      background-color: #434B5C;\n",
              "      box-shadow: 0px 1px 3px 1px rgba(0, 0, 0, 0.15);\n",
              "      filter: drop-shadow(0px 1px 2px rgba(0, 0, 0, 0.3));\n",
              "      fill: #FFFFFF;\n",
              "    }\n",
              "  </style>\n",
              "\n",
              "      <script>\n",
              "        const buttonEl =\n",
              "          document.querySelector('#df-a4e38a0f-a269-465d-9add-5e86658679d5 button.colab-df-convert');\n",
              "        buttonEl.style.display =\n",
              "          google.colab.kernel.accessAllowed ? 'block' : 'none';\n",
              "\n",
              "        async function convertToInteractive(key) {\n",
              "          const element = document.querySelector('#df-a4e38a0f-a269-465d-9add-5e86658679d5');\n",
              "          const dataTable =\n",
              "            await google.colab.kernel.invokeFunction('convertToInteractive',\n",
              "                                                     [key], {});\n",
              "          if (!dataTable) return;\n",
              "\n",
              "          const docLinkHtml = 'Like what you see? Visit the ' +\n",
              "            '<a target=\"_blank\" href=https://colab.research.google.com/notebooks/data_table.ipynb>data table notebook</a>'\n",
              "            + ' to learn more about interactive tables.';\n",
              "          element.innerHTML = '';\n",
              "          dataTable['output_type'] = 'display_data';\n",
              "          await google.colab.output.renderOutput(dataTable, element);\n",
              "          const docLink = document.createElement('div');\n",
              "          docLink.innerHTML = docLinkHtml;\n",
              "          element.appendChild(docLink);\n",
              "        }\n",
              "      </script>\n",
              "    </div>\n",
              "  </div>\n",
              "  "
            ],
            "text/plain": [
              "                                                    text       class\n",
              "0               Wasiirkii Biyaha Sucuudiga oo la Casilay    Caalamka\n",
              "1                Joe Biden oo ka dagay magaalada Nairobi     Wararka\n",
              "2      Madaxii Garsoorayaasha Xiriirka K/Cagta Somali...  Soomaaliya\n",
              "3                     Dabeylo ku Dhuftay Ceelasha-Biyaha  Soomaaliya\n",
              "4                   816 Arday oo ka Qalin Jebisay Camuud  Soomaaliya\n",
              "...                                                  ...         ...\n",
              "20574       Somaliland: Qofkii 4aad oo u Dhinta COVID-19  Soomaaliya\n",
              "20575  Trump oo 3 Bil oo Dheeri ah Xayiraadda ka Qaad...      Afrika\n",
              "20576        Wareysi Gaas: Doorashada Dib Ayey u Dhacday  Soomaaliya\n",
              "20577      Natiijada Doorashada Kenya oo Lagu Dhawaaqayo      Afrika\n",
              "20578                   Xaaladda Dhoobley Shabaab ka Dib     Wararka\n",
              "\n",
              "[19673 rows x 2 columns]"
            ]
          },
          "metadata": {},
          "execution_count": 48
        }
      ]
    },
    {
      "cell_type": "code",
      "source": [
        "len(maindf)"
      ],
      "metadata": {
        "id": "0m2hUKEzWJyR",
        "colab": {
          "base_uri": "https://localhost:8080/"
        },
        "outputId": "452785f4-469d-4e02-9893-ff1417094f5b"
      },
      "execution_count": null,
      "outputs": [
        {
          "output_type": "execute_result",
          "data": {
            "text/plain": [
              "19673"
            ]
          },
          "metadata": {},
          "execution_count": 49
        }
      ]
    },
    {
      "cell_type": "code",
      "source": [
        "maindf['class'].explode().value_counts()"
      ],
      "metadata": {
        "colab": {
          "base_uri": "https://localhost:8080/"
        },
        "id": "YeC3QfCg73OT",
        "outputId": "e99f41ba-0dcd-4481-8583-18fe99fdc168"
      },
      "execution_count": null,
      "outputs": [
        {
          "output_type": "execute_result",
          "data": {
            "text/plain": [
              "Soomaaliya         9282\n",
              "Wararka            3623\n",
              "Caalamka           2773\n",
              "Maraykanka         1808\n",
              "Afrika             1576\n",
              "Bogga Ciyaaraha     611\n",
              "Name: class, dtype: int64"
            ]
          },
          "metadata": {},
          "execution_count": 50
        }
      ]
    },
    {
      "cell_type": "code",
      "source": [
        "maindf.to_csv('Somali/somali_topic.tsv',sep='\\t',index=False)"
      ],
      "metadata": {
        "id": "XmQXmNP6EuLS"
      },
      "execution_count": null,
      "outputs": []
    },
    {
      "cell_type": "code",
      "source": [
        "import pandas as pd\n",
        "df = pd.read_csv('Somali/somali_topic.tsv',sep='\\t')\n",
        "len(df)"
      ],
      "metadata": {
        "colab": {
          "base_uri": "https://localhost:8080/"
        },
        "id": "tPje3TvJvi_t",
        "outputId": "8ccefdbe-37dc-4ec6-c4cc-18592b104283"
      },
      "execution_count": null,
      "outputs": [
        {
          "output_type": "execute_result",
          "data": {
            "text/plain": [
              "19673"
            ]
          },
          "metadata": {},
          "execution_count": 4
        }
      ]
    },
    {
      "cell_type": "code",
      "source": [
        "df[\"class\"] = df[\"class\"].str.lower()\n",
        "df = df.rename(columns={\"class\":\"label\"})\n",
        "df"
      ],
      "metadata": {
        "colab": {
          "base_uri": "https://localhost:8080/",
          "height": 424
        },
        "id": "Lt994Qg1vtYl",
        "outputId": "72b4f444-9682-45b5-dc8c-09d5ea51323e"
      },
      "execution_count": null,
      "outputs": [
        {
          "output_type": "execute_result",
          "data": {
            "text/html": [
              "\n",
              "  <div id=\"df-684397bc-ca30-4d97-bc78-216d45602cc1\">\n",
              "    <div class=\"colab-df-container\">\n",
              "      <div>\n",
              "<style scoped>\n",
              "    .dataframe tbody tr th:only-of-type {\n",
              "        vertical-align: middle;\n",
              "    }\n",
              "\n",
              "    .dataframe tbody tr th {\n",
              "        vertical-align: top;\n",
              "    }\n",
              "\n",
              "    .dataframe thead th {\n",
              "        text-align: right;\n",
              "    }\n",
              "</style>\n",
              "<table border=\"1\" class=\"dataframe\">\n",
              "  <thead>\n",
              "    <tr style=\"text-align: right;\">\n",
              "      <th></th>\n",
              "      <th>text</th>\n",
              "      <th>label</th>\n",
              "    </tr>\n",
              "  </thead>\n",
              "  <tbody>\n",
              "    <tr>\n",
              "      <th>0</th>\n",
              "      <td>Wasiirkii Biyaha Sucuudiga oo la Casilay</td>\n",
              "      <td>caalamka</td>\n",
              "    </tr>\n",
              "    <tr>\n",
              "      <th>1</th>\n",
              "      <td>Joe Biden oo ka dagay magaalada Nairobi</td>\n",
              "      <td>wararka</td>\n",
              "    </tr>\n",
              "    <tr>\n",
              "      <th>2</th>\n",
              "      <td>Madaxii Garsoorayaasha Xiriirka K/Cagta Somali...</td>\n",
              "      <td>soomaaliya</td>\n",
              "    </tr>\n",
              "    <tr>\n",
              "      <th>3</th>\n",
              "      <td>Dabeylo ku Dhuftay Ceelasha-Biyaha</td>\n",
              "      <td>soomaaliya</td>\n",
              "    </tr>\n",
              "    <tr>\n",
              "      <th>4</th>\n",
              "      <td>816 Arday oo ka Qalin Jebisay Camuud</td>\n",
              "      <td>soomaaliya</td>\n",
              "    </tr>\n",
              "    <tr>\n",
              "      <th>...</th>\n",
              "      <td>...</td>\n",
              "      <td>...</td>\n",
              "    </tr>\n",
              "    <tr>\n",
              "      <th>19668</th>\n",
              "      <td>Somaliland: Qofkii 4aad oo u Dhinta COVID-19</td>\n",
              "      <td>soomaaliya</td>\n",
              "    </tr>\n",
              "    <tr>\n",
              "      <th>19669</th>\n",
              "      <td>Trump oo 3 Bil oo Dheeri ah Xayiraadda ka Qaad...</td>\n",
              "      <td>afrika</td>\n",
              "    </tr>\n",
              "    <tr>\n",
              "      <th>19670</th>\n",
              "      <td>Wareysi Gaas: Doorashada Dib Ayey u Dhacday</td>\n",
              "      <td>soomaaliya</td>\n",
              "    </tr>\n",
              "    <tr>\n",
              "      <th>19671</th>\n",
              "      <td>Natiijada Doorashada Kenya oo Lagu Dhawaaqayo</td>\n",
              "      <td>afrika</td>\n",
              "    </tr>\n",
              "    <tr>\n",
              "      <th>19672</th>\n",
              "      <td>Xaaladda Dhoobley Shabaab ka Dib</td>\n",
              "      <td>wararka</td>\n",
              "    </tr>\n",
              "  </tbody>\n",
              "</table>\n",
              "<p>19673 rows × 2 columns</p>\n",
              "</div>\n",
              "      <button class=\"colab-df-convert\" onclick=\"convertToInteractive('df-684397bc-ca30-4d97-bc78-216d45602cc1')\"\n",
              "              title=\"Convert this dataframe to an interactive table.\"\n",
              "              style=\"display:none;\">\n",
              "        \n",
              "  <svg xmlns=\"http://www.w3.org/2000/svg\" height=\"24px\"viewBox=\"0 0 24 24\"\n",
              "       width=\"24px\">\n",
              "    <path d=\"M0 0h24v24H0V0z\" fill=\"none\"/>\n",
              "    <path d=\"M18.56 5.44l.94 2.06.94-2.06 2.06-.94-2.06-.94-.94-2.06-.94 2.06-2.06.94zm-11 1L8.5 8.5l.94-2.06 2.06-.94-2.06-.94L8.5 2.5l-.94 2.06-2.06.94zm10 10l.94 2.06.94-2.06 2.06-.94-2.06-.94-.94-2.06-.94 2.06-2.06.94z\"/><path d=\"M17.41 7.96l-1.37-1.37c-.4-.4-.92-.59-1.43-.59-.52 0-1.04.2-1.43.59L10.3 9.45l-7.72 7.72c-.78.78-.78 2.05 0 2.83L4 21.41c.39.39.9.59 1.41.59.51 0 1.02-.2 1.41-.59l7.78-7.78 2.81-2.81c.8-.78.8-2.07 0-2.86zM5.41 20L4 18.59l7.72-7.72 1.47 1.35L5.41 20z\"/>\n",
              "  </svg>\n",
              "      </button>\n",
              "      \n",
              "  <style>\n",
              "    .colab-df-container {\n",
              "      display:flex;\n",
              "      flex-wrap:wrap;\n",
              "      gap: 12px;\n",
              "    }\n",
              "\n",
              "    .colab-df-convert {\n",
              "      background-color: #E8F0FE;\n",
              "      border: none;\n",
              "      border-radius: 50%;\n",
              "      cursor: pointer;\n",
              "      display: none;\n",
              "      fill: #1967D2;\n",
              "      height: 32px;\n",
              "      padding: 0 0 0 0;\n",
              "      width: 32px;\n",
              "    }\n",
              "\n",
              "    .colab-df-convert:hover {\n",
              "      background-color: #E2EBFA;\n",
              "      box-shadow: 0px 1px 2px rgba(60, 64, 67, 0.3), 0px 1px 3px 1px rgba(60, 64, 67, 0.15);\n",
              "      fill: #174EA6;\n",
              "    }\n",
              "\n",
              "    [theme=dark] .colab-df-convert {\n",
              "      background-color: #3B4455;\n",
              "      fill: #D2E3FC;\n",
              "    }\n",
              "\n",
              "    [theme=dark] .colab-df-convert:hover {\n",
              "      background-color: #434B5C;\n",
              "      box-shadow: 0px 1px 3px 1px rgba(0, 0, 0, 0.15);\n",
              "      filter: drop-shadow(0px 1px 2px rgba(0, 0, 0, 0.3));\n",
              "      fill: #FFFFFF;\n",
              "    }\n",
              "  </style>\n",
              "\n",
              "      <script>\n",
              "        const buttonEl =\n",
              "          document.querySelector('#df-684397bc-ca30-4d97-bc78-216d45602cc1 button.colab-df-convert');\n",
              "        buttonEl.style.display =\n",
              "          google.colab.kernel.accessAllowed ? 'block' : 'none';\n",
              "\n",
              "        async function convertToInteractive(key) {\n",
              "          const element = document.querySelector('#df-684397bc-ca30-4d97-bc78-216d45602cc1');\n",
              "          const dataTable =\n",
              "            await google.colab.kernel.invokeFunction('convertToInteractive',\n",
              "                                                     [key], {});\n",
              "          if (!dataTable) return;\n",
              "\n",
              "          const docLinkHtml = 'Like what you see? Visit the ' +\n",
              "            '<a target=\"_blank\" href=https://colab.research.google.com/notebooks/data_table.ipynb>data table notebook</a>'\n",
              "            + ' to learn more about interactive tables.';\n",
              "          element.innerHTML = '';\n",
              "          dataTable['output_type'] = 'display_data';\n",
              "          await google.colab.output.renderOutput(dataTable, element);\n",
              "          const docLink = document.createElement('div');\n",
              "          docLink.innerHTML = docLinkHtml;\n",
              "          element.appendChild(docLink);\n",
              "        }\n",
              "      </script>\n",
              "    </div>\n",
              "  </div>\n",
              "  "
            ],
            "text/plain": [
              "                                                    text       label\n",
              "0               Wasiirkii Biyaha Sucuudiga oo la Casilay    caalamka\n",
              "1                Joe Biden oo ka dagay magaalada Nairobi     wararka\n",
              "2      Madaxii Garsoorayaasha Xiriirka K/Cagta Somali...  soomaaliya\n",
              "3                     Dabeylo ku Dhuftay Ceelasha-Biyaha  soomaaliya\n",
              "4                   816 Arday oo ka Qalin Jebisay Camuud  soomaaliya\n",
              "...                                                  ...         ...\n",
              "19668       Somaliland: Qofkii 4aad oo u Dhinta COVID-19  soomaaliya\n",
              "19669  Trump oo 3 Bil oo Dheeri ah Xayiraadda ka Qaad...      afrika\n",
              "19670        Wareysi Gaas: Doorashada Dib Ayey u Dhacday  soomaaliya\n",
              "19671      Natiijada Doorashada Kenya oo Lagu Dhawaaqayo      afrika\n",
              "19672                   Xaaladda Dhoobley Shabaab ka Dib     wararka\n",
              "\n",
              "[19673 rows x 2 columns]"
            ]
          },
          "metadata": {},
          "execution_count": 5
        }
      ]
    },
    {
      "cell_type": "code",
      "source": [
        "df['label'].explode().value_counts()"
      ],
      "metadata": {
        "colab": {
          "base_uri": "https://localhost:8080/"
        },
        "id": "3mQjsTBMvvJq",
        "outputId": "d7b4540e-2d3d-4d3f-85dd-72cf3eadb25c"
      },
      "execution_count": null,
      "outputs": [
        {
          "output_type": "execute_result",
          "data": {
            "text/plain": [
              "soomaaliya         9282\n",
              "wararka            3623\n",
              "caalamka           2773\n",
              "maraykanka         1808\n",
              "afrika             1576\n",
              "bogga ciyaaraha     611\n",
              "Name: label, dtype: int64"
            ]
          },
          "metadata": {},
          "execution_count": 6
        }
      ]
    },
    {
      "cell_type": "code",
      "source": [
        "dfsom = df.query('label == \"soomaaliya\"').sample(4000,random_state=0)\n",
        "print(dfsom.head())\n",
        "restdf = df.loc[df['label'].isin(['wararka', 'caalamka', 'maraykanka', 'afrika', 'bogga ciyaaraha'])]\n",
        "frames = [dfsom, restdf]\n",
        "\n",
        "df = pd.concat(frames)"
      ],
      "metadata": {
        "colab": {
          "base_uri": "https://localhost:8080/"
        },
        "id": "fxaC9cFxvz--",
        "outputId": "961a00f1-2c45-4cc3-eb33-5146109f90d8"
      },
      "execution_count": null,
      "outputs": [
        {
          "output_type": "stream",
          "name": "stdout",
          "text": [
            "                                                    text       label\n",
            "18718           100 Ka Tirsan Shabab oo Lagu Dilay Baay.  soomaaliya\n",
            "2460            Dhageyso Barnaamijka Martida Mikrafoonka  soomaaliya\n",
            "8088   Dawladda Somalia oo Qabatay Alshabab Weerar Ge...  soomaaliya\n",
            "4250       Shirkadda Toyota oo xarun ka furatay Muqdisho  soomaaliya\n",
            "15862                Tartan Orod oo Hargeysa Lagu Qabtay  soomaaliya\n"
          ]
        }
      ]
    },
    {
      "cell_type": "code",
      "source": [
        "df['label'].explode().value_counts()"
      ],
      "metadata": {
        "colab": {
          "base_uri": "https://localhost:8080/"
        },
        "id": "k_qupkB9wXce",
        "outputId": "2321c62f-0707-4233-bbf2-53ded95070d9"
      },
      "execution_count": null,
      "outputs": [
        {
          "output_type": "execute_result",
          "data": {
            "text/plain": [
              "soomaaliya         4000\n",
              "wararka            3623\n",
              "caalamka           2773\n",
              "maraykanka         1808\n",
              "afrika             1576\n",
              "bogga ciyaaraha     611\n",
              "Name: label, dtype: int64"
            ]
          },
          "metadata": {},
          "execution_count": 8
        }
      ]
    },
    {
      "cell_type": "code",
      "source": [
        "from sklearn.model_selection import train_test_split\n",
        "import pandas as pd\n",
        "\n",
        "def train_test_val_split(df, test_size=0.15, val_size=0.45):\n",
        "    temp, test = train_test_split(df, test_size=test_size,stratify=df['label'],random_state=0)\n",
        "    total_items_count = len(df.index)\n",
        "    val_length = total_items_count * val_size\n",
        "    new_val_propotion = val_length / len(temp.index) \n",
        "    train, val = train_test_split(temp, test_size=new_val_propotion,stratify=temp['label'],random_state=0)\n",
        "    return train, test, val\n",
        "\n",
        "train, test, val = train_test_val_split(df, test_size=0.2, val_size=0.1)\n",
        "print(len(train),len(test),len(val))"
      ],
      "metadata": {
        "colab": {
          "base_uri": "https://localhost:8080/"
        },
        "id": "YsSLxr2Gwaz5",
        "outputId": "9eae427f-f733-474a-e8d3-0389675756ff"
      },
      "execution_count": null,
      "outputs": [
        {
          "output_type": "stream",
          "name": "stdout",
          "text": [
            "10072 2879 1440\n"
          ]
        }
      ]
    },
    {
      "cell_type": "code",
      "source": [
        "train['label'].explode().value_counts()"
      ],
      "metadata": {
        "colab": {
          "base_uri": "https://localhost:8080/"
        },
        "id": "-gfyyxB0wdC9",
        "outputId": "22c7162c-3002-4bbb-a5d7-023063042115"
      },
      "execution_count": null,
      "outputs": [
        {
          "output_type": "execute_result",
          "data": {
            "text/plain": [
              "soomaaliya         2800\n",
              "wararka            2535\n",
              "caalamka           1941\n",
              "maraykanka         1265\n",
              "afrika             1103\n",
              "bogga ciyaaraha     428\n",
              "Name: label, dtype: int64"
            ]
          },
          "metadata": {},
          "execution_count": 10
        }
      ]
    },
    {
      "cell_type": "code",
      "source": [
        "val['label'].explode().value_counts()"
      ],
      "metadata": {
        "colab": {
          "base_uri": "https://localhost:8080/"
        },
        "id": "lqMgz_JCwfFM",
        "outputId": "ba876f2c-492c-496d-ddd9-ff43cd900335"
      },
      "execution_count": null,
      "outputs": [
        {
          "output_type": "execute_result",
          "data": {
            "text/plain": [
              "soomaaliya         400\n",
              "wararka            363\n",
              "caalamka           277\n",
              "maraykanka         181\n",
              "afrika             158\n",
              "bogga ciyaaraha     61\n",
              "Name: label, dtype: int64"
            ]
          },
          "metadata": {},
          "execution_count": 11
        }
      ]
    },
    {
      "cell_type": "code",
      "source": [
        "test['label'].explode().value_counts()\n",
        "# \"soomaaliya\", \"wararka\", \"caalamka\", \"maraykanka\", \"afrika\"             315"
      ],
      "metadata": {
        "colab": {
          "base_uri": "https://localhost:8080/"
        },
        "id": "Jv3xyCIzwgiW",
        "outputId": "5b11f4ff-5381-400c-d861-36bdf3fe92f8"
      },
      "execution_count": null,
      "outputs": [
        {
          "output_type": "execute_result",
          "data": {
            "text/plain": [
              "soomaaliya         800\n",
              "wararka            725\n",
              "caalamka           555\n",
              "maraykanka         362\n",
              "afrika             315\n",
              "bogga ciyaaraha    122\n",
              "Name: label, dtype: int64"
            ]
          },
          "metadata": {},
          "execution_count": 12
        }
      ]
    },
    {
      "cell_type": "code",
      "source": [
        "train.to_csv('Somali/train.tsv',sep='\\t',index=False)\n",
        "val.to_csv('Somali/dev.tsv',sep='\\t',index=False)\n",
        "test.to_csv('Somali/test.tsv',sep='\\t',index=False)"
      ],
      "metadata": {
        "id": "GwHqsdYXwi3N"
      },
      "execution_count": null,
      "outputs": []
    },
    {
      "cell_type": "code",
      "source": [
        "maindf.describe()"
      ],
      "metadata": {
        "colab": {
          "base_uri": "https://localhost:8080/",
          "height": 175
        },
        "id": "RNnXXRVgMfCu",
        "outputId": "2c608b52-b783-4c1d-fac1-f37536e4df30"
      },
      "execution_count": null,
      "outputs": [
        {
          "output_type": "execute_result",
          "data": {
            "text/html": [
              "\n",
              "  <div id=\"df-86a994ca-4dc0-4f69-90f2-ab30ce76e0dd\">\n",
              "    <div class=\"colab-df-container\">\n",
              "      <div>\n",
              "<style scoped>\n",
              "    .dataframe tbody tr th:only-of-type {\n",
              "        vertical-align: middle;\n",
              "    }\n",
              "\n",
              "    .dataframe tbody tr th {\n",
              "        vertical-align: top;\n",
              "    }\n",
              "\n",
              "    .dataframe thead th {\n",
              "        text-align: right;\n",
              "    }\n",
              "</style>\n",
              "<table border=\"1\" class=\"dataframe\">\n",
              "  <thead>\n",
              "    <tr style=\"text-align: right;\">\n",
              "      <th></th>\n",
              "      <th>text</th>\n",
              "      <th>class</th>\n",
              "    </tr>\n",
              "  </thead>\n",
              "  <tbody>\n",
              "    <tr>\n",
              "      <th>count</th>\n",
              "      <td>19673</td>\n",
              "      <td>19673</td>\n",
              "    </tr>\n",
              "    <tr>\n",
              "      <th>unique</th>\n",
              "      <td>19673</td>\n",
              "      <td>6</td>\n",
              "    </tr>\n",
              "    <tr>\n",
              "      <th>top</th>\n",
              "      <td>Mareykanka: Dawo la ogaaday inay caawiso bukaa...</td>\n",
              "      <td>Soomaaliya</td>\n",
              "    </tr>\n",
              "    <tr>\n",
              "      <th>freq</th>\n",
              "      <td>1</td>\n",
              "      <td>9282</td>\n",
              "    </tr>\n",
              "  </tbody>\n",
              "</table>\n",
              "</div>\n",
              "      <button class=\"colab-df-convert\" onclick=\"convertToInteractive('df-86a994ca-4dc0-4f69-90f2-ab30ce76e0dd')\"\n",
              "              title=\"Convert this dataframe to an interactive table.\"\n",
              "              style=\"display:none;\">\n",
              "        \n",
              "  <svg xmlns=\"http://www.w3.org/2000/svg\" height=\"24px\"viewBox=\"0 0 24 24\"\n",
              "       width=\"24px\">\n",
              "    <path d=\"M0 0h24v24H0V0z\" fill=\"none\"/>\n",
              "    <path d=\"M18.56 5.44l.94 2.06.94-2.06 2.06-.94-2.06-.94-.94-2.06-.94 2.06-2.06.94zm-11 1L8.5 8.5l.94-2.06 2.06-.94-2.06-.94L8.5 2.5l-.94 2.06-2.06.94zm10 10l.94 2.06.94-2.06 2.06-.94-2.06-.94-.94-2.06-.94 2.06-2.06.94z\"/><path d=\"M17.41 7.96l-1.37-1.37c-.4-.4-.92-.59-1.43-.59-.52 0-1.04.2-1.43.59L10.3 9.45l-7.72 7.72c-.78.78-.78 2.05 0 2.83L4 21.41c.39.39.9.59 1.41.59.51 0 1.02-.2 1.41-.59l7.78-7.78 2.81-2.81c.8-.78.8-2.07 0-2.86zM5.41 20L4 18.59l7.72-7.72 1.47 1.35L5.41 20z\"/>\n",
              "  </svg>\n",
              "      </button>\n",
              "      \n",
              "  <style>\n",
              "    .colab-df-container {\n",
              "      display:flex;\n",
              "      flex-wrap:wrap;\n",
              "      gap: 12px;\n",
              "    }\n",
              "\n",
              "    .colab-df-convert {\n",
              "      background-color: #E8F0FE;\n",
              "      border: none;\n",
              "      border-radius: 50%;\n",
              "      cursor: pointer;\n",
              "      display: none;\n",
              "      fill: #1967D2;\n",
              "      height: 32px;\n",
              "      padding: 0 0 0 0;\n",
              "      width: 32px;\n",
              "    }\n",
              "\n",
              "    .colab-df-convert:hover {\n",
              "      background-color: #E2EBFA;\n",
              "      box-shadow: 0px 1px 2px rgba(60, 64, 67, 0.3), 0px 1px 3px 1px rgba(60, 64, 67, 0.15);\n",
              "      fill: #174EA6;\n",
              "    }\n",
              "\n",
              "    [theme=dark] .colab-df-convert {\n",
              "      background-color: #3B4455;\n",
              "      fill: #D2E3FC;\n",
              "    }\n",
              "\n",
              "    [theme=dark] .colab-df-convert:hover {\n",
              "      background-color: #434B5C;\n",
              "      box-shadow: 0px 1px 3px 1px rgba(0, 0, 0, 0.15);\n",
              "      filter: drop-shadow(0px 1px 2px rgba(0, 0, 0, 0.3));\n",
              "      fill: #FFFFFF;\n",
              "    }\n",
              "  </style>\n",
              "\n",
              "      <script>\n",
              "        const buttonEl =\n",
              "          document.querySelector('#df-86a994ca-4dc0-4f69-90f2-ab30ce76e0dd button.colab-df-convert');\n",
              "        buttonEl.style.display =\n",
              "          google.colab.kernel.accessAllowed ? 'block' : 'none';\n",
              "\n",
              "        async function convertToInteractive(key) {\n",
              "          const element = document.querySelector('#df-86a994ca-4dc0-4f69-90f2-ab30ce76e0dd');\n",
              "          const dataTable =\n",
              "            await google.colab.kernel.invokeFunction('convertToInteractive',\n",
              "                                                     [key], {});\n",
              "          if (!dataTable) return;\n",
              "\n",
              "          const docLinkHtml = 'Like what you see? Visit the ' +\n",
              "            '<a target=\"_blank\" href=https://colab.research.google.com/notebooks/data_table.ipynb>data table notebook</a>'\n",
              "            + ' to learn more about interactive tables.';\n",
              "          element.innerHTML = '';\n",
              "          dataTable['output_type'] = 'display_data';\n",
              "          await google.colab.output.renderOutput(dataTable, element);\n",
              "          const docLink = document.createElement('div');\n",
              "          docLink.innerHTML = docLinkHtml;\n",
              "          element.appendChild(docLink);\n",
              "        }\n",
              "      </script>\n",
              "    </div>\n",
              "  </div>\n",
              "  "
            ],
            "text/plain": [
              "                                                     text       class\n",
              "count                                               19673       19673\n",
              "unique                                              19673           6\n",
              "top     Mareykanka: Dawo la ogaaday inay caawiso bukaa...  Soomaaliya\n",
              "freq                                                    1        9282"
            ]
          },
          "metadata": {},
          "execution_count": 52
        }
      ]
    },
    {
      "cell_type": "code",
      "source": [],
      "metadata": {
        "id": "jwizhcKpNb8k"
      },
      "execution_count": null,
      "outputs": []
    }
  ]
}